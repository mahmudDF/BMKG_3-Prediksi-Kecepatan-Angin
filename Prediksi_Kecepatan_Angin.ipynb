{
  "nbformat": 4,
  "nbformat_minor": 0,
  "metadata": {
    "colab": {
      "name": "Prediksi Kecepatan Angin.ipynb",
      "provenance": [],
      "collapsed_sections": []
    },
    "kernelspec": {
      "name": "python3",
      "display_name": "Python 3"
    },
    "language_info": {
      "name": "python"
    }
  },
  "cells": [
    {
      "cell_type": "code",
      "execution_count": null,
      "metadata": {
        "id": "xjB7OCyIEBOT"
      },
      "outputs": [],
      "source": [
        "#import lib\n",
        "import pandas as pd\n",
        "import numpy as np\n",
        "import matplotlib.pyplot as plt\n",
        "from datetime import datetime\n",
        "import sys\n",
        "from numpy import savetxt\n",
        "from sklearn import preprocessing\n",
        "from sklearn.metrics import accuracy_score\n",
        "from sklearn.model_selection import train_test_split\n",
        "\n",
        "from sklearn.decomposition import FastICA\n",
        "\n",
        "import keras\n",
        "import tensorflow as tf \n",
        "from keras.callbacks import Callback\n",
        "from keras.layers import BatchNormalization\n",
        "from keras.models import Sequential\n",
        "from keras.layers.core import Dense, Dropout, Activation\n",
        "from keras.layers.convolutional import Convolution1D\n",
        "from keras.layers.convolutional import MaxPooling1D\n",
        "from keras.layers import Flatten\n",
        "from keras.models import load_model\n",
        "from tensorflow.keras.callbacks import EarlyStopping\n",
        "from tensorflow.keras.utils import to_categorical\n",
        "from keras import backend as K\n",
        "import math, time\n",
        "import itertools\n",
        "from math import sqrt\n",
        "\n",
        "np.random.seed(0)\n"
      ]
    },
    {
      "cell_type": "code",
      "source": [
        "df = pd.read_csv(\"/content/drive/MyDrive/Demo Day Digitalent/Dataset Cuaca.csv\", header=0, parse_dates=['dt_iso'], index_col='dt_iso', squeeze=True)\n",
        "df"
      ],
      "metadata": {
        "colab": {
          "base_uri": "https://localhost:8080/",
          "height": 693
        },
        "id": "DxMTzYXvEPbd",
        "outputId": "41402685-8a79-4b25-de8a-1c1af6acaea2"
      },
      "execution_count": null,
      "outputs": [
        {
          "output_type": "execute_result",
          "data": {
            "text/plain": [
              "            timezone city_name       lat         lon   temp  temp_min  \\\n",
              "dt_iso                                                                  \n",
              "1990-01-01     28800  Denpasar -8.652497  115.219117  25.82     25.82   \n",
              "1990-01-01     28800  Denpasar -8.652497  115.219117  26.20     26.20   \n",
              "1990-01-01     28800  Denpasar -8.652497  115.219117  26.45     26.45   \n",
              "1990-01-01     28800  Denpasar -8.652497  115.219117  26.80     26.80   \n",
              "1990-01-01     28800  Denpasar -8.652497  115.219117  27.04     27.04   \n",
              "...              ...       ...       ...         ...    ...       ...   \n",
              "2020-01-07     28800  Denpasar -8.652497  115.219117  27.00     27.00   \n",
              "2020-01-07     28800  Denpasar -8.652497  115.219117  27.00     27.00   \n",
              "2020-01-07     28800  Denpasar -8.652497  115.219117  28.00     28.00   \n",
              "2020-01-07     28800  Denpasar -8.652497  115.219117  28.00     28.00   \n",
              "2020-01-07     28800  Denpasar -8.652497  115.219117  28.00     28.00   \n",
              "\n",
              "            temp_max  pressure  humidity  wind_speed  ...  snow_3h  snow_6h  \\\n",
              "dt_iso                                                ...                     \n",
              "1990-01-01     25.82    1010.0        86        1.36  ...      NaN      NaN   \n",
              "1990-01-01     26.20    1011.0        84        2.09  ...      NaN      NaN   \n",
              "1990-01-01     26.45    1011.0        84        2.44  ...      NaN      NaN   \n",
              "1990-01-01     26.80    1011.0        82        2.29  ...      NaN      NaN   \n",
              "1990-01-01     27.04    1010.0        82        1.71  ...      NaN      NaN   \n",
              "...              ...       ...       ...         ...  ...      ...      ...   \n",
              "2020-01-07     27.00    1007.0        94        4.10  ...      NaN      NaN   \n",
              "2020-01-07     27.00    1007.0        94        5.70  ...      NaN      NaN   \n",
              "2020-01-07     28.00    1007.0        83        6.70  ...      NaN      NaN   \n",
              "2020-01-07     28.00    1007.0        83        6.20  ...      NaN      NaN   \n",
              "2020-01-07     28.00    1008.0        83        5.70  ...      NaN      NaN   \n",
              "\n",
              "            snow_12h  snow_24h  snow_today  clouds_all  weather_id  \\\n",
              "dt_iso                                                               \n",
              "1990-01-01       NaN       NaN         NaN          98         500   \n",
              "1990-01-01       NaN       NaN         NaN          91         500   \n",
              "1990-01-01       NaN       NaN         NaN          94         500   \n",
              "1990-01-01       NaN       NaN         NaN          94         500   \n",
              "1990-01-01       NaN       NaN         NaN          76         803   \n",
              "...              ...       ...         ...         ...         ...   \n",
              "2020-01-07       NaN       NaN         NaN          75         803   \n",
              "2020-01-07       NaN       NaN         NaN          75         803   \n",
              "2020-01-07       NaN       NaN         NaN          75         803   \n",
              "2020-01-07       NaN       NaN         NaN          40         802   \n",
              "2020-01-07       NaN       NaN         NaN          40         802   \n",
              "\n",
              "            weather_main  weather_description  weather_icon  \n",
              "dt_iso                                                       \n",
              "1990-01-01          Rain           light rain           10d  \n",
              "1990-01-01          Rain           light rain           10d  \n",
              "1990-01-01          Rain           light rain           10d  \n",
              "1990-01-01          Rain           light rain           10d  \n",
              "1990-01-01        Clouds        broken clouds           04d  \n",
              "...                  ...                  ...           ...  \n",
              "2020-01-07        Clouds        broken clouds           04n  \n",
              "2020-01-07        Clouds        broken clouds           04n  \n",
              "2020-01-07        Clouds        broken clouds           04n  \n",
              "2020-01-07        Clouds     scattered clouds           03n  \n",
              "2020-01-07        Clouds     scattered clouds           03d  \n",
              "\n",
              "[264924 rows x 28 columns]"
            ],
            "text/html": [
              "\n",
              "  <div id=\"df-2d15f771-40fe-4069-97bf-c538d39d0713\">\n",
              "    <div class=\"colab-df-container\">\n",
              "      <div>\n",
              "<style scoped>\n",
              "    .dataframe tbody tr th:only-of-type {\n",
              "        vertical-align: middle;\n",
              "    }\n",
              "\n",
              "    .dataframe tbody tr th {\n",
              "        vertical-align: top;\n",
              "    }\n",
              "\n",
              "    .dataframe thead th {\n",
              "        text-align: right;\n",
              "    }\n",
              "</style>\n",
              "<table border=\"1\" class=\"dataframe\">\n",
              "  <thead>\n",
              "    <tr style=\"text-align: right;\">\n",
              "      <th></th>\n",
              "      <th>timezone</th>\n",
              "      <th>city_name</th>\n",
              "      <th>lat</th>\n",
              "      <th>lon</th>\n",
              "      <th>temp</th>\n",
              "      <th>temp_min</th>\n",
              "      <th>temp_max</th>\n",
              "      <th>pressure</th>\n",
              "      <th>humidity</th>\n",
              "      <th>wind_speed</th>\n",
              "      <th>...</th>\n",
              "      <th>snow_3h</th>\n",
              "      <th>snow_6h</th>\n",
              "      <th>snow_12h</th>\n",
              "      <th>snow_24h</th>\n",
              "      <th>snow_today</th>\n",
              "      <th>clouds_all</th>\n",
              "      <th>weather_id</th>\n",
              "      <th>weather_main</th>\n",
              "      <th>weather_description</th>\n",
              "      <th>weather_icon</th>\n",
              "    </tr>\n",
              "    <tr>\n",
              "      <th>dt_iso</th>\n",
              "      <th></th>\n",
              "      <th></th>\n",
              "      <th></th>\n",
              "      <th></th>\n",
              "      <th></th>\n",
              "      <th></th>\n",
              "      <th></th>\n",
              "      <th></th>\n",
              "      <th></th>\n",
              "      <th></th>\n",
              "      <th></th>\n",
              "      <th></th>\n",
              "      <th></th>\n",
              "      <th></th>\n",
              "      <th></th>\n",
              "      <th></th>\n",
              "      <th></th>\n",
              "      <th></th>\n",
              "      <th></th>\n",
              "      <th></th>\n",
              "      <th></th>\n",
              "    </tr>\n",
              "  </thead>\n",
              "  <tbody>\n",
              "    <tr>\n",
              "      <th>1990-01-01</th>\n",
              "      <td>28800</td>\n",
              "      <td>Denpasar</td>\n",
              "      <td>-8.652497</td>\n",
              "      <td>115.219117</td>\n",
              "      <td>25.82</td>\n",
              "      <td>25.82</td>\n",
              "      <td>25.82</td>\n",
              "      <td>1010.0</td>\n",
              "      <td>86</td>\n",
              "      <td>1.36</td>\n",
              "      <td>...</td>\n",
              "      <td>NaN</td>\n",
              "      <td>NaN</td>\n",
              "      <td>NaN</td>\n",
              "      <td>NaN</td>\n",
              "      <td>NaN</td>\n",
              "      <td>98</td>\n",
              "      <td>500</td>\n",
              "      <td>Rain</td>\n",
              "      <td>light rain</td>\n",
              "      <td>10d</td>\n",
              "    </tr>\n",
              "    <tr>\n",
              "      <th>1990-01-01</th>\n",
              "      <td>28800</td>\n",
              "      <td>Denpasar</td>\n",
              "      <td>-8.652497</td>\n",
              "      <td>115.219117</td>\n",
              "      <td>26.20</td>\n",
              "      <td>26.20</td>\n",
              "      <td>26.20</td>\n",
              "      <td>1011.0</td>\n",
              "      <td>84</td>\n",
              "      <td>2.09</td>\n",
              "      <td>...</td>\n",
              "      <td>NaN</td>\n",
              "      <td>NaN</td>\n",
              "      <td>NaN</td>\n",
              "      <td>NaN</td>\n",
              "      <td>NaN</td>\n",
              "      <td>91</td>\n",
              "      <td>500</td>\n",
              "      <td>Rain</td>\n",
              "      <td>light rain</td>\n",
              "      <td>10d</td>\n",
              "    </tr>\n",
              "    <tr>\n",
              "      <th>1990-01-01</th>\n",
              "      <td>28800</td>\n",
              "      <td>Denpasar</td>\n",
              "      <td>-8.652497</td>\n",
              "      <td>115.219117</td>\n",
              "      <td>26.45</td>\n",
              "      <td>26.45</td>\n",
              "      <td>26.45</td>\n",
              "      <td>1011.0</td>\n",
              "      <td>84</td>\n",
              "      <td>2.44</td>\n",
              "      <td>...</td>\n",
              "      <td>NaN</td>\n",
              "      <td>NaN</td>\n",
              "      <td>NaN</td>\n",
              "      <td>NaN</td>\n",
              "      <td>NaN</td>\n",
              "      <td>94</td>\n",
              "      <td>500</td>\n",
              "      <td>Rain</td>\n",
              "      <td>light rain</td>\n",
              "      <td>10d</td>\n",
              "    </tr>\n",
              "    <tr>\n",
              "      <th>1990-01-01</th>\n",
              "      <td>28800</td>\n",
              "      <td>Denpasar</td>\n",
              "      <td>-8.652497</td>\n",
              "      <td>115.219117</td>\n",
              "      <td>26.80</td>\n",
              "      <td>26.80</td>\n",
              "      <td>26.80</td>\n",
              "      <td>1011.0</td>\n",
              "      <td>82</td>\n",
              "      <td>2.29</td>\n",
              "      <td>...</td>\n",
              "      <td>NaN</td>\n",
              "      <td>NaN</td>\n",
              "      <td>NaN</td>\n",
              "      <td>NaN</td>\n",
              "      <td>NaN</td>\n",
              "      <td>94</td>\n",
              "      <td>500</td>\n",
              "      <td>Rain</td>\n",
              "      <td>light rain</td>\n",
              "      <td>10d</td>\n",
              "    </tr>\n",
              "    <tr>\n",
              "      <th>1990-01-01</th>\n",
              "      <td>28800</td>\n",
              "      <td>Denpasar</td>\n",
              "      <td>-8.652497</td>\n",
              "      <td>115.219117</td>\n",
              "      <td>27.04</td>\n",
              "      <td>27.04</td>\n",
              "      <td>27.04</td>\n",
              "      <td>1010.0</td>\n",
              "      <td>82</td>\n",
              "      <td>1.71</td>\n",
              "      <td>...</td>\n",
              "      <td>NaN</td>\n",
              "      <td>NaN</td>\n",
              "      <td>NaN</td>\n",
              "      <td>NaN</td>\n",
              "      <td>NaN</td>\n",
              "      <td>76</td>\n",
              "      <td>803</td>\n",
              "      <td>Clouds</td>\n",
              "      <td>broken clouds</td>\n",
              "      <td>04d</td>\n",
              "    </tr>\n",
              "    <tr>\n",
              "      <th>...</th>\n",
              "      <td>...</td>\n",
              "      <td>...</td>\n",
              "      <td>...</td>\n",
              "      <td>...</td>\n",
              "      <td>...</td>\n",
              "      <td>...</td>\n",
              "      <td>...</td>\n",
              "      <td>...</td>\n",
              "      <td>...</td>\n",
              "      <td>...</td>\n",
              "      <td>...</td>\n",
              "      <td>...</td>\n",
              "      <td>...</td>\n",
              "      <td>...</td>\n",
              "      <td>...</td>\n",
              "      <td>...</td>\n",
              "      <td>...</td>\n",
              "      <td>...</td>\n",
              "      <td>...</td>\n",
              "      <td>...</td>\n",
              "      <td>...</td>\n",
              "    </tr>\n",
              "    <tr>\n",
              "      <th>2020-01-07</th>\n",
              "      <td>28800</td>\n",
              "      <td>Denpasar</td>\n",
              "      <td>-8.652497</td>\n",
              "      <td>115.219117</td>\n",
              "      <td>27.00</td>\n",
              "      <td>27.00</td>\n",
              "      <td>27.00</td>\n",
              "      <td>1007.0</td>\n",
              "      <td>94</td>\n",
              "      <td>4.10</td>\n",
              "      <td>...</td>\n",
              "      <td>NaN</td>\n",
              "      <td>NaN</td>\n",
              "      <td>NaN</td>\n",
              "      <td>NaN</td>\n",
              "      <td>NaN</td>\n",
              "      <td>75</td>\n",
              "      <td>803</td>\n",
              "      <td>Clouds</td>\n",
              "      <td>broken clouds</td>\n",
              "      <td>04n</td>\n",
              "    </tr>\n",
              "    <tr>\n",
              "      <th>2020-01-07</th>\n",
              "      <td>28800</td>\n",
              "      <td>Denpasar</td>\n",
              "      <td>-8.652497</td>\n",
              "      <td>115.219117</td>\n",
              "      <td>27.00</td>\n",
              "      <td>27.00</td>\n",
              "      <td>27.00</td>\n",
              "      <td>1007.0</td>\n",
              "      <td>94</td>\n",
              "      <td>5.70</td>\n",
              "      <td>...</td>\n",
              "      <td>NaN</td>\n",
              "      <td>NaN</td>\n",
              "      <td>NaN</td>\n",
              "      <td>NaN</td>\n",
              "      <td>NaN</td>\n",
              "      <td>75</td>\n",
              "      <td>803</td>\n",
              "      <td>Clouds</td>\n",
              "      <td>broken clouds</td>\n",
              "      <td>04n</td>\n",
              "    </tr>\n",
              "    <tr>\n",
              "      <th>2020-01-07</th>\n",
              "      <td>28800</td>\n",
              "      <td>Denpasar</td>\n",
              "      <td>-8.652497</td>\n",
              "      <td>115.219117</td>\n",
              "      <td>28.00</td>\n",
              "      <td>28.00</td>\n",
              "      <td>28.00</td>\n",
              "      <td>1007.0</td>\n",
              "      <td>83</td>\n",
              "      <td>6.70</td>\n",
              "      <td>...</td>\n",
              "      <td>NaN</td>\n",
              "      <td>NaN</td>\n",
              "      <td>NaN</td>\n",
              "      <td>NaN</td>\n",
              "      <td>NaN</td>\n",
              "      <td>75</td>\n",
              "      <td>803</td>\n",
              "      <td>Clouds</td>\n",
              "      <td>broken clouds</td>\n",
              "      <td>04n</td>\n",
              "    </tr>\n",
              "    <tr>\n",
              "      <th>2020-01-07</th>\n",
              "      <td>28800</td>\n",
              "      <td>Denpasar</td>\n",
              "      <td>-8.652497</td>\n",
              "      <td>115.219117</td>\n",
              "      <td>28.00</td>\n",
              "      <td>28.00</td>\n",
              "      <td>28.00</td>\n",
              "      <td>1007.0</td>\n",
              "      <td>83</td>\n",
              "      <td>6.20</td>\n",
              "      <td>...</td>\n",
              "      <td>NaN</td>\n",
              "      <td>NaN</td>\n",
              "      <td>NaN</td>\n",
              "      <td>NaN</td>\n",
              "      <td>NaN</td>\n",
              "      <td>40</td>\n",
              "      <td>802</td>\n",
              "      <td>Clouds</td>\n",
              "      <td>scattered clouds</td>\n",
              "      <td>03n</td>\n",
              "    </tr>\n",
              "    <tr>\n",
              "      <th>2020-01-07</th>\n",
              "      <td>28800</td>\n",
              "      <td>Denpasar</td>\n",
              "      <td>-8.652497</td>\n",
              "      <td>115.219117</td>\n",
              "      <td>28.00</td>\n",
              "      <td>28.00</td>\n",
              "      <td>28.00</td>\n",
              "      <td>1008.0</td>\n",
              "      <td>83</td>\n",
              "      <td>5.70</td>\n",
              "      <td>...</td>\n",
              "      <td>NaN</td>\n",
              "      <td>NaN</td>\n",
              "      <td>NaN</td>\n",
              "      <td>NaN</td>\n",
              "      <td>NaN</td>\n",
              "      <td>40</td>\n",
              "      <td>802</td>\n",
              "      <td>Clouds</td>\n",
              "      <td>scattered clouds</td>\n",
              "      <td>03d</td>\n",
              "    </tr>\n",
              "  </tbody>\n",
              "</table>\n",
              "<p>264924 rows × 28 columns</p>\n",
              "</div>\n",
              "      <button class=\"colab-df-convert\" onclick=\"convertToInteractive('df-2d15f771-40fe-4069-97bf-c538d39d0713')\"\n",
              "              title=\"Convert this dataframe to an interactive table.\"\n",
              "              style=\"display:none;\">\n",
              "        \n",
              "  <svg xmlns=\"http://www.w3.org/2000/svg\" height=\"24px\"viewBox=\"0 0 24 24\"\n",
              "       width=\"24px\">\n",
              "    <path d=\"M0 0h24v24H0V0z\" fill=\"none\"/>\n",
              "    <path d=\"M18.56 5.44l.94 2.06.94-2.06 2.06-.94-2.06-.94-.94-2.06-.94 2.06-2.06.94zm-11 1L8.5 8.5l.94-2.06 2.06-.94-2.06-.94L8.5 2.5l-.94 2.06-2.06.94zm10 10l.94 2.06.94-2.06 2.06-.94-2.06-.94-.94-2.06-.94 2.06-2.06.94z\"/><path d=\"M17.41 7.96l-1.37-1.37c-.4-.4-.92-.59-1.43-.59-.52 0-1.04.2-1.43.59L10.3 9.45l-7.72 7.72c-.78.78-.78 2.05 0 2.83L4 21.41c.39.39.9.59 1.41.59.51 0 1.02-.2 1.41-.59l7.78-7.78 2.81-2.81c.8-.78.8-2.07 0-2.86zM5.41 20L4 18.59l7.72-7.72 1.47 1.35L5.41 20z\"/>\n",
              "  </svg>\n",
              "      </button>\n",
              "      \n",
              "  <style>\n",
              "    .colab-df-container {\n",
              "      display:flex;\n",
              "      flex-wrap:wrap;\n",
              "      gap: 12px;\n",
              "    }\n",
              "\n",
              "    .colab-df-convert {\n",
              "      background-color: #E8F0FE;\n",
              "      border: none;\n",
              "      border-radius: 50%;\n",
              "      cursor: pointer;\n",
              "      display: none;\n",
              "      fill: #1967D2;\n",
              "      height: 32px;\n",
              "      padding: 0 0 0 0;\n",
              "      width: 32px;\n",
              "    }\n",
              "\n",
              "    .colab-df-convert:hover {\n",
              "      background-color: #E2EBFA;\n",
              "      box-shadow: 0px 1px 2px rgba(60, 64, 67, 0.3), 0px 1px 3px 1px rgba(60, 64, 67, 0.15);\n",
              "      fill: #174EA6;\n",
              "    }\n",
              "\n",
              "    [theme=dark] .colab-df-convert {\n",
              "      background-color: #3B4455;\n",
              "      fill: #D2E3FC;\n",
              "    }\n",
              "\n",
              "    [theme=dark] .colab-df-convert:hover {\n",
              "      background-color: #434B5C;\n",
              "      box-shadow: 0px 1px 3px 1px rgba(0, 0, 0, 0.15);\n",
              "      filter: drop-shadow(0px 1px 2px rgba(0, 0, 0, 0.3));\n",
              "      fill: #FFFFFF;\n",
              "    }\n",
              "  </style>\n",
              "\n",
              "      <script>\n",
              "        const buttonEl =\n",
              "          document.querySelector('#df-2d15f771-40fe-4069-97bf-c538d39d0713 button.colab-df-convert');\n",
              "        buttonEl.style.display =\n",
              "          google.colab.kernel.accessAllowed ? 'block' : 'none';\n",
              "\n",
              "        async function convertToInteractive(key) {\n",
              "          const element = document.querySelector('#df-2d15f771-40fe-4069-97bf-c538d39d0713');\n",
              "          const dataTable =\n",
              "            await google.colab.kernel.invokeFunction('convertToInteractive',\n",
              "                                                     [key], {});\n",
              "          if (!dataTable) return;\n",
              "\n",
              "          const docLinkHtml = 'Like what you see? Visit the ' +\n",
              "            '<a target=\"_blank\" href=https://colab.research.google.com/notebooks/data_table.ipynb>data table notebook</a>'\n",
              "            + ' to learn more about interactive tables.';\n",
              "          element.innerHTML = '';\n",
              "          dataTable['output_type'] = 'display_data';\n",
              "          await google.colab.output.renderOutput(dataTable, element);\n",
              "          const docLink = document.createElement('div');\n",
              "          docLink.innerHTML = docLinkHtml;\n",
              "          element.appendChild(docLink);\n",
              "        }\n",
              "      </script>\n",
              "    </div>\n",
              "  </div>\n",
              "  "
            ]
          },
          "metadata": {},
          "execution_count": 2
        }
      ]
    },
    {
      "cell_type": "code",
      "source": [
        "dataset = df.drop(columns=['timezone','city_name', 'wind_deg', 'rain_1h',\t'rain_3h', 'rain_6h', 'rain_12h', 'rain_24h',\t'rain_today', 'snow_1h', 'lat','lon','temp_min','temp_max', 'snow_3h','snow_6h','snow_12h','snow_24h',\t'snow_today',\t'clouds_all', 'weather_id',\t'weather_main', 'weather_description',\t'weather_icon'])"
      ],
      "metadata": {
        "id": "sIyXeiZUE422"
      },
      "execution_count": null,
      "outputs": []
    },
    {
      "cell_type": "code",
      "source": [
        "dataset.info()"
      ],
      "metadata": {
        "colab": {
          "base_uri": "https://localhost:8080/"
        },
        "id": "5QPUM3W8GmbC",
        "outputId": "90a0bb02-90b1-40ed-a0c7-32139c1e48c9"
      },
      "execution_count": null,
      "outputs": [
        {
          "output_type": "stream",
          "name": "stdout",
          "text": [
            "<class 'pandas.core.frame.DataFrame'>\n",
            "DatetimeIndex: 264924 entries, 1990-01-01 to 2020-01-07\n",
            "Data columns (total 4 columns):\n",
            " #   Column      Non-Null Count   Dtype  \n",
            "---  ------      --------------   -----  \n",
            " 0   temp        264924 non-null  float64\n",
            " 1   pressure    264924 non-null  float64\n",
            " 2   humidity    264924 non-null  int64  \n",
            " 3   wind_speed  264924 non-null  float64\n",
            "dtypes: float64(3), int64(1)\n",
            "memory usage: 10.1 MB\n"
          ]
        }
      ]
    },
    {
      "cell_type": "code",
      "source": [
        "# Kelas Kecepatan Angin \n",
        "# Tenang, Teduh, Sepoi, Kuat \n",
        "\n",
        "tenang = 0\n",
        "teduh = 0 \n",
        "sepoi = 0 \n",
        "kuat = 0 \n",
        "\n",
        "data = dataset['wind_speed']\n",
        "for i in range(len(data)):\n",
        "  if(data[i] >= 0 and data[i] <= 2.75):\n",
        "    tenang = tenang + 1\n",
        "  elif(data[i] >= 2.76 and data[i] <=  5.5):\n",
        "    teduh = teduh + 1\n",
        "  elif(data[i] >=  5.6 and data[i] <= 8.25):\n",
        "    sepoi = sepoi + 1\n",
        "  elif(data[i] > 8.26):\n",
        "    kuat = kuat + 1"
      ],
      "metadata": {
        "id": "DbvX-av7Jd_i"
      },
      "execution_count": null,
      "outputs": []
    },
    {
      "cell_type": "code",
      "source": [
        "print(\"Tenang : \", tenang)\n",
        "print(\"Teduh : \", teduh)\n",
        "print(\"Sepoi : \", sepoi)\n",
        "print(\"Kuat :\", kuat)"
      ],
      "metadata": {
        "colab": {
          "base_uri": "https://localhost:8080/"
        },
        "id": "E2FgcFvGJhxr",
        "outputId": "67768a5c-864d-4ef2-bab4-53012c705ca0"
      },
      "execution_count": null,
      "outputs": [
        {
          "output_type": "stream",
          "name": "stdout",
          "text": [
            "Tenang :  101202\n",
            "Teduh :  121070\n",
            "Sepoi :  38152\n",
            "Kuat : 3788\n"
          ]
        }
      ]
    },
    {
      "cell_type": "code",
      "source": [
        "# Mengelompokkan data setiap 1 hari\n",
        "dataset2 = dataset.copy()\n",
        "ekstraksi = dataset2.resample('1D').mean()\n",
        "ekstraksi.describe()\n",
        "#print(ekstraksi)\n",
        "ekstraksi.to_csv('contoh hasil ekstraksi.csv')"
      ],
      "metadata": {
        "id": "fetYCWgfJrXu"
      },
      "execution_count": null,
      "outputs": []
    },
    {
      "cell_type": "code",
      "source": [
        "MinMax_scaler = preprocessing.MinMaxScaler()\n",
        "ekstraksi['temp'] = MinMax_scaler.fit_transform(ekstraksi['temp'].values.reshape(-1,1))\n",
        "ekstraksi['pressure'] = MinMax_scaler.fit_transform(ekstraksi['pressure'].values.reshape(-1,1))\n",
        "ekstraksi['humidity'] = MinMax_scaler.fit_transform(ekstraksi['humidity'].values.reshape(-1,1))\n",
        "ekstraksi['wind_speed'] = MinMax_scaler.fit_transform(ekstraksi['wind_speed'].values.reshape(-1,1))"
      ],
      "metadata": {
        "id": "6b1w3JFbHP4A"
      },
      "execution_count": null,
      "outputs": []
    },
    {
      "cell_type": "code",
      "source": [
        "ekstraksi"
      ],
      "metadata": {
        "colab": {
          "base_uri": "https://localhost:8080/",
          "height": 455
        },
        "id": "Ozp7yxWvIBWs",
        "outputId": "54178199-d579-418d-9a05-4c6daae86194"
      },
      "execution_count": null,
      "outputs": [
        {
          "output_type": "execute_result",
          "data": {
            "text/plain": [
              "                temp  pressure  humidity  wind_speed\n",
              "dt_iso                                              \n",
              "1990-01-01  0.439979  0.515715  0.650867    0.040684\n",
              "1990-01-02  0.353363  0.536668  0.709827    0.093336\n",
              "1990-01-03  0.509673  0.468570  0.563006    0.095496\n",
              "1990-01-04  0.474104  0.429282  0.626590    0.140571\n",
              "1990-01-05  0.619738  0.426663  0.464740    0.162028\n",
              "...              ...       ...       ...         ...\n",
              "2020-01-03  0.700993  0.376899  0.600000    0.401317\n",
              "2020-01-04  0.635728  0.306181  0.672832    0.597833\n",
              "2020-01-05  0.733625  0.379518  0.672832    0.395085\n",
              "2020-01-06  0.705655  0.410948  0.676301    0.356703\n",
              "2020-01-07  0.677684  0.379518  0.636994    0.374761\n",
              "\n",
              "[10964 rows x 4 columns]"
            ],
            "text/html": [
              "\n",
              "  <div id=\"df-e0db5564-e6aa-4653-8a68-841d3d7e42d6\">\n",
              "    <div class=\"colab-df-container\">\n",
              "      <div>\n",
              "<style scoped>\n",
              "    .dataframe tbody tr th:only-of-type {\n",
              "        vertical-align: middle;\n",
              "    }\n",
              "\n",
              "    .dataframe tbody tr th {\n",
              "        vertical-align: top;\n",
              "    }\n",
              "\n",
              "    .dataframe thead th {\n",
              "        text-align: right;\n",
              "    }\n",
              "</style>\n",
              "<table border=\"1\" class=\"dataframe\">\n",
              "  <thead>\n",
              "    <tr style=\"text-align: right;\">\n",
              "      <th></th>\n",
              "      <th>temp</th>\n",
              "      <th>pressure</th>\n",
              "      <th>humidity</th>\n",
              "      <th>wind_speed</th>\n",
              "    </tr>\n",
              "    <tr>\n",
              "      <th>dt_iso</th>\n",
              "      <th></th>\n",
              "      <th></th>\n",
              "      <th></th>\n",
              "      <th></th>\n",
              "    </tr>\n",
              "  </thead>\n",
              "  <tbody>\n",
              "    <tr>\n",
              "      <th>1990-01-01</th>\n",
              "      <td>0.439979</td>\n",
              "      <td>0.515715</td>\n",
              "      <td>0.650867</td>\n",
              "      <td>0.040684</td>\n",
              "    </tr>\n",
              "    <tr>\n",
              "      <th>1990-01-02</th>\n",
              "      <td>0.353363</td>\n",
              "      <td>0.536668</td>\n",
              "      <td>0.709827</td>\n",
              "      <td>0.093336</td>\n",
              "    </tr>\n",
              "    <tr>\n",
              "      <th>1990-01-03</th>\n",
              "      <td>0.509673</td>\n",
              "      <td>0.468570</td>\n",
              "      <td>0.563006</td>\n",
              "      <td>0.095496</td>\n",
              "    </tr>\n",
              "    <tr>\n",
              "      <th>1990-01-04</th>\n",
              "      <td>0.474104</td>\n",
              "      <td>0.429282</td>\n",
              "      <td>0.626590</td>\n",
              "      <td>0.140571</td>\n",
              "    </tr>\n",
              "    <tr>\n",
              "      <th>1990-01-05</th>\n",
              "      <td>0.619738</td>\n",
              "      <td>0.426663</td>\n",
              "      <td>0.464740</td>\n",
              "      <td>0.162028</td>\n",
              "    </tr>\n",
              "    <tr>\n",
              "      <th>...</th>\n",
              "      <td>...</td>\n",
              "      <td>...</td>\n",
              "      <td>...</td>\n",
              "      <td>...</td>\n",
              "    </tr>\n",
              "    <tr>\n",
              "      <th>2020-01-03</th>\n",
              "      <td>0.700993</td>\n",
              "      <td>0.376899</td>\n",
              "      <td>0.600000</td>\n",
              "      <td>0.401317</td>\n",
              "    </tr>\n",
              "    <tr>\n",
              "      <th>2020-01-04</th>\n",
              "      <td>0.635728</td>\n",
              "      <td>0.306181</td>\n",
              "      <td>0.672832</td>\n",
              "      <td>0.597833</td>\n",
              "    </tr>\n",
              "    <tr>\n",
              "      <th>2020-01-05</th>\n",
              "      <td>0.733625</td>\n",
              "      <td>0.379518</td>\n",
              "      <td>0.672832</td>\n",
              "      <td>0.395085</td>\n",
              "    </tr>\n",
              "    <tr>\n",
              "      <th>2020-01-06</th>\n",
              "      <td>0.705655</td>\n",
              "      <td>0.410948</td>\n",
              "      <td>0.676301</td>\n",
              "      <td>0.356703</td>\n",
              "    </tr>\n",
              "    <tr>\n",
              "      <th>2020-01-07</th>\n",
              "      <td>0.677684</td>\n",
              "      <td>0.379518</td>\n",
              "      <td>0.636994</td>\n",
              "      <td>0.374761</td>\n",
              "    </tr>\n",
              "  </tbody>\n",
              "</table>\n",
              "<p>10964 rows × 4 columns</p>\n",
              "</div>\n",
              "      <button class=\"colab-df-convert\" onclick=\"convertToInteractive('df-e0db5564-e6aa-4653-8a68-841d3d7e42d6')\"\n",
              "              title=\"Convert this dataframe to an interactive table.\"\n",
              "              style=\"display:none;\">\n",
              "        \n",
              "  <svg xmlns=\"http://www.w3.org/2000/svg\" height=\"24px\"viewBox=\"0 0 24 24\"\n",
              "       width=\"24px\">\n",
              "    <path d=\"M0 0h24v24H0V0z\" fill=\"none\"/>\n",
              "    <path d=\"M18.56 5.44l.94 2.06.94-2.06 2.06-.94-2.06-.94-.94-2.06-.94 2.06-2.06.94zm-11 1L8.5 8.5l.94-2.06 2.06-.94-2.06-.94L8.5 2.5l-.94 2.06-2.06.94zm10 10l.94 2.06.94-2.06 2.06-.94-2.06-.94-.94-2.06-.94 2.06-2.06.94z\"/><path d=\"M17.41 7.96l-1.37-1.37c-.4-.4-.92-.59-1.43-.59-.52 0-1.04.2-1.43.59L10.3 9.45l-7.72 7.72c-.78.78-.78 2.05 0 2.83L4 21.41c.39.39.9.59 1.41.59.51 0 1.02-.2 1.41-.59l7.78-7.78 2.81-2.81c.8-.78.8-2.07 0-2.86zM5.41 20L4 18.59l7.72-7.72 1.47 1.35L5.41 20z\"/>\n",
              "  </svg>\n",
              "      </button>\n",
              "      \n",
              "  <style>\n",
              "    .colab-df-container {\n",
              "      display:flex;\n",
              "      flex-wrap:wrap;\n",
              "      gap: 12px;\n",
              "    }\n",
              "\n",
              "    .colab-df-convert {\n",
              "      background-color: #E8F0FE;\n",
              "      border: none;\n",
              "      border-radius: 50%;\n",
              "      cursor: pointer;\n",
              "      display: none;\n",
              "      fill: #1967D2;\n",
              "      height: 32px;\n",
              "      padding: 0 0 0 0;\n",
              "      width: 32px;\n",
              "    }\n",
              "\n",
              "    .colab-df-convert:hover {\n",
              "      background-color: #E2EBFA;\n",
              "      box-shadow: 0px 1px 2px rgba(60, 64, 67, 0.3), 0px 1px 3px 1px rgba(60, 64, 67, 0.15);\n",
              "      fill: #174EA6;\n",
              "    }\n",
              "\n",
              "    [theme=dark] .colab-df-convert {\n",
              "      background-color: #3B4455;\n",
              "      fill: #D2E3FC;\n",
              "    }\n",
              "\n",
              "    [theme=dark] .colab-df-convert:hover {\n",
              "      background-color: #434B5C;\n",
              "      box-shadow: 0px 1px 3px 1px rgba(0, 0, 0, 0.15);\n",
              "      filter: drop-shadow(0px 1px 2px rgba(0, 0, 0, 0.3));\n",
              "      fill: #FFFFFF;\n",
              "    }\n",
              "  </style>\n",
              "\n",
              "      <script>\n",
              "        const buttonEl =\n",
              "          document.querySelector('#df-e0db5564-e6aa-4653-8a68-841d3d7e42d6 button.colab-df-convert');\n",
              "        buttonEl.style.display =\n",
              "          google.colab.kernel.accessAllowed ? 'block' : 'none';\n",
              "\n",
              "        async function convertToInteractive(key) {\n",
              "          const element = document.querySelector('#df-e0db5564-e6aa-4653-8a68-841d3d7e42d6');\n",
              "          const dataTable =\n",
              "            await google.colab.kernel.invokeFunction('convertToInteractive',\n",
              "                                                     [key], {});\n",
              "          if (!dataTable) return;\n",
              "\n",
              "          const docLinkHtml = 'Like what you see? Visit the ' +\n",
              "            '<a target=\"_blank\" href=https://colab.research.google.com/notebooks/data_table.ipynb>data table notebook</a>'\n",
              "            + ' to learn more about interactive tables.';\n",
              "          element.innerHTML = '';\n",
              "          dataTable['output_type'] = 'display_data';\n",
              "          await google.colab.output.renderOutput(dataTable, element);\n",
              "          const docLink = document.createElement('div');\n",
              "          docLink.innerHTML = docLinkHtml;\n",
              "          element.appendChild(docLink);\n",
              "        }\n",
              "      </script>\n",
              "    </div>\n",
              "  </div>\n",
              "  "
            ]
          },
          "metadata": {},
          "execution_count": 194
        }
      ]
    },
    {
      "cell_type": "code",
      "source": [
        "ekstraksi.shape"
      ],
      "metadata": {
        "colab": {
          "base_uri": "https://localhost:8080/"
        },
        "id": "crVZCeHabPPM",
        "outputId": "4c18adf2-0667-4613-dc1c-e42b26eae33a"
      },
      "execution_count": null,
      "outputs": [
        {
          "output_type": "execute_result",
          "data": {
            "text/plain": [
              "(10964, 4)"
            ]
          },
          "metadata": {},
          "execution_count": 195
        }
      ]
    },
    {
      "cell_type": "code",
      "source": [
        "#segmentasi\n",
        "ekstraksi = ekstraksi.values\n",
        "n = 0\n",
        "n2 = 0\n",
        "n3 = 0\n",
        "n4 = 0\n",
        "num = 0\n",
        "segmen = np.empty(shape=(len(ekstraksi) - 11, 4, 12))\n",
        "col2 = 0\n",
        "col3 = 0\n",
        "col4 = 0\n",
        "col5 = 0"
      ],
      "metadata": {
        "id": "EuGWxyxeIEtK"
      },
      "execution_count": null,
      "outputs": []
    },
    {
      "cell_type": "code",
      "source": [
        "len(ekstraksi)"
      ],
      "metadata": {
        "colab": {
          "base_uri": "https://localhost:8080/"
        },
        "id": "2CXXUnCyl1Pb",
        "outputId": "8dd33041-b802-4400-8708-d6b93b91ab57"
      },
      "execution_count": null,
      "outputs": [
        {
          "output_type": "execute_result",
          "data": {
            "text/plain": [
              "10964"
            ]
          },
          "metadata": {},
          "execution_count": 197
        }
      ]
    },
    {
      "cell_type": "code",
      "source": [
        "for row in range(len(ekstraksi) - 12):\n",
        "  for col in range(48):\n",
        "    if (num >= 0 and num <= 11) :\n",
        "      segmen[row][0][col2] = round(ekstraksi[row + n][0], 2)\n",
        "      num = num + 1\n",
        "      n = n + 1\n",
        "      col2 = col2 + 1\n",
        "    elif (num >= 12 and num <= 23) :\n",
        "      n = 0\n",
        "      col2 = 0\n",
        "      segmen[row][1][col3] = round(ekstraksi[row + n2][1], 2)\n",
        "      num = num + 1\n",
        "      n2 = n2 + 1\n",
        "      col3 = col3 + 1\n",
        "    elif (num >= 24 and num <= 35) :\n",
        "      n2 = 0\n",
        "      col3 = 0\n",
        "      segmen[row][2][col4] = round(ekstraksi[row + n3][2], 2)\n",
        "      num = num + 1\n",
        "      n3 = n3 + 1\n",
        "      col4 = col4 + 1\n",
        "    elif (num >= 36) :\n",
        "      n3 = 0\n",
        "      col4 = 0\n",
        "      segmen[row][3][col5] = round(ekstraksi[row + n4][3], 2)\n",
        "      num = num + 1\n",
        "      n4 = n4 + 1\n",
        "      col5 = col5 + 1\n",
        "  n4 = 0\n",
        "  num = 0\n",
        "  col5 = 0"
      ],
      "metadata": {
        "id": "GYMgkZm9l4kJ"
      },
      "execution_count": null,
      "outputs": []
    },
    {
      "cell_type": "code",
      "source": [
        "print(segmen.shape)"
      ],
      "metadata": {
        "colab": {
          "base_uri": "https://localhost:8080/"
        },
        "id": "bBQxWcJbl-cZ",
        "outputId": "6a2fcf21-8177-4c98-963a-48d575269053"
      },
      "execution_count": null,
      "outputs": [
        {
          "output_type": "stream",
          "name": "stdout",
          "text": [
            "(10953, 4, 12)\n"
          ]
        }
      ]
    },
    {
      "cell_type": "code",
      "source": [
        "train = segmen \n",
        "X_train = train[:, :-1]\n",
        "y_train = train[:, :-1][:,-1] \n",
        "print('Training set:', train.shape[0], 'obs')\n",
        "X_train.shape"
      ],
      "metadata": {
        "colab": {
          "base_uri": "https://localhost:8080/"
        },
        "id": "YQw4QX7SolSk",
        "outputId": "8758c24e-afd9-47d7-94fa-e39b49a633ee"
      },
      "execution_count": null,
      "outputs": [
        {
          "output_type": "stream",
          "name": "stdout",
          "text": [
            "Training set: 10953 obs\n"
          ]
        },
        {
          "output_type": "execute_result",
          "data": {
            "text/plain": [
              "(10953, 3, 12)"
            ]
          },
          "metadata": {},
          "execution_count": 200
        }
      ]
    },
    {
      "cell_type": "code",
      "source": [
        "train = segmen \n",
        "X_train_2 = train[:, :-1]\n",
        "y_train_2 = train[:, :-1][:,-1] \n",
        "print('Training set:', train.shape[0], 'obs')\n",
        "X_train_2.shape"
      ],
      "metadata": {
        "colab": {
          "base_uri": "https://localhost:8080/"
        },
        "id": "ZP1vsAhNonrh",
        "outputId": "05c83363-a999-4aac-d2e3-da7abf82ee51"
      },
      "execution_count": null,
      "outputs": [
        {
          "output_type": "stream",
          "name": "stdout",
          "text": [
            "Training set: 10953 obs\n"
          ]
        },
        {
          "output_type": "execute_result",
          "data": {
            "text/plain": [
              "(10953, 3, 12)"
            ]
          },
          "metadata": {},
          "execution_count": 201
        }
      ]
    },
    {
      "cell_type": "code",
      "source": [
        "# ica = ICA(n_components=15, random_state=97)\n",
        "ica = FastICA(n_components =15, whiten=True, max_iter=1000,tol=0.0001)\n",
        "ica.fit(X_train_2.reshape(X_train_2.shape[0], X_train_2.shape[1]*X_train_2.shape[2]))\n",
        "x_train_ica = ica.fit_transform(X_train_2.reshape(X_train_2.shape[0], X_train_2.shape[1]*X_train_2.shape[2]))\n",
        "x_train_ica_restored = ica.inverse_transform(x_train_ica)"
      ],
      "metadata": {
        "id": "3C21P86rorpw",
        "colab": {
          "base_uri": "https://localhost:8080/"
        },
        "outputId": "6b506538-4a22-4a1a-b090-f13c4bd6c1f0"
      },
      "execution_count": null,
      "outputs": [
        {
          "output_type": "stream",
          "name": "stderr",
          "text": [
            "/usr/local/lib/python3.7/dist-packages/sklearn/decomposition/_fastica.py:119: ConvergenceWarning: FastICA did not converge. Consider increasing tolerance or the maximum number of iterations.\n",
            "  ConvergenceWarning,\n"
          ]
        }
      ]
    },
    {
      "cell_type": "code",
      "source": [
        "X_train_2.shape\n",
        "print(X_train_2.shape)\n",
        "x_train_ica.shape"
      ],
      "metadata": {
        "colab": {
          "base_uri": "https://localhost:8080/"
        },
        "id": "LBIy_78ko9YX",
        "outputId": "a221e084-9c4b-464c-fa4d-011de0d12489"
      },
      "execution_count": null,
      "outputs": [
        {
          "output_type": "stream",
          "name": "stdout",
          "text": [
            "(10953, 3, 12)\n"
          ]
        },
        {
          "output_type": "execute_result",
          "data": {
            "text/plain": [
              "(10953, 15)"
            ]
          },
          "metadata": {},
          "execution_count": 203
        }
      ]
    },
    {
      "cell_type": "code",
      "source": [
        "#split data latih dan tes\n",
        "splitRow = round(0.9 * x_train_ica.shape[0])\n",
        "splitRow"
      ],
      "metadata": {
        "id": "Q0XY10tApJY6",
        "colab": {
          "base_uri": "https://localhost:8080/"
        },
        "outputId": "6fe4b81f-82a0-46a9-dc8c-915d0f48335c"
      },
      "execution_count": null,
      "outputs": [
        {
          "output_type": "execute_result",
          "data": {
            "text/plain": [
              "9858"
            ]
          },
          "metadata": {},
          "execution_count": 204
        }
      ]
    },
    {
      "cell_type": "code",
      "source": [
        "# Training (80%)\n",
        "train = segmen[:int(splitRow), :]\n",
        "X_train_2 = train[:, :-1] # 12W data\n",
        "y_train_2 = train[:, :-1][:,-1]\n",
        "print('Training set:', train.shape[0])\n",
        "\n",
        "# Test (20%)\n",
        "test = segmen[int(splitRow):, :]\n",
        "X_test_2 = test[:, :-1] # 12W data\n",
        "y_test_2 = test[:, :-1][:,-1] \n",
        "print('Test set:', test.shape[0])"
      ],
      "metadata": {
        "colab": {
          "base_uri": "https://localhost:8080/"
        },
        "id": "mjmaq8Y0pAzZ",
        "outputId": "6cb70ca2-1571-4e0a-fa45-f36bb7294612"
      },
      "execution_count": null,
      "outputs": [
        {
          "output_type": "stream",
          "name": "stdout",
          "text": [
            "Training set: 9858\n",
            "Test set: 1095\n"
          ]
        }
      ]
    },
    {
      "cell_type": "code",
      "source": [
        "print(X_train_2.shape)\n",
        "print(X_test_2.shape) \n",
        "print(len(y_train_2))\n",
        "print('Size X Train :', X_train_2.shape)"
      ],
      "metadata": {
        "colab": {
          "base_uri": "https://localhost:8080/"
        },
        "id": "BQJQ_w9hpLqL",
        "outputId": "4791ff33-4b0f-42c3-ac32-16745bc6d9b3"
      },
      "execution_count": null,
      "outputs": [
        {
          "output_type": "stream",
          "name": "stdout",
          "text": [
            "(9858, 3, 12)\n",
            "(1095, 3, 12)\n",
            "9858\n",
            "Size X Train : (9858, 3, 12)\n"
          ]
        }
      ]
    },
    {
      "cell_type": "code",
      "source": [
        "X_train_2 = X_train.copy()\n",
        "y_train_2 = y_train.copy()"
      ],
      "metadata": {
        "id": "3MqnLUxXj6kr"
      },
      "execution_count": null,
      "outputs": []
    },
    {
      "cell_type": "code",
      "source": [
        "X_train_2.shape"
      ],
      "metadata": {
        "colab": {
          "base_uri": "https://localhost:8080/"
        },
        "id": "qonpv72rk6GS",
        "outputId": "df275259-9c5a-4245-c678-b32241fd99d5"
      },
      "execution_count": null,
      "outputs": [
        {
          "output_type": "execute_result",
          "data": {
            "text/plain": [
              "(10953, 3, 12)"
            ]
          },
          "metadata": {},
          "execution_count": 209
        }
      ]
    },
    {
      "cell_type": "code",
      "source": [
        "y_train_2.shape"
      ],
      "metadata": {
        "colab": {
          "base_uri": "https://localhost:8080/"
        },
        "id": "lyUZdIPgk9Xw",
        "outputId": "044a14e7-8e1f-427b-c250-c1be9284b1d5"
      },
      "execution_count": null,
      "outputs": [
        {
          "output_type": "execute_result",
          "data": {
            "text/plain": [
              "(10953, 12)"
            ]
          },
          "metadata": {},
          "execution_count": 210
        }
      ]
    },
    {
      "cell_type": "code",
      "source": [
        "model = Sequential()\n",
        "model15IC = Sequential()\n",
        "model20IC = Sequential()\n",
        "lengthX = len(X_train_2[1])"
      ],
      "metadata": {
        "id": "AUYO_lgVpatq"
      },
      "execution_count": null,
      "outputs": []
    },
    {
      "cell_type": "code",
      "source": [
        "#model\n",
        "neurons = [128, 64, 64, 64]\n",
        "dropout = 0.2\n",
        "decay = 0.2"
      ],
      "metadata": {
        "id": "6mHnfNkUpfHy"
      },
      "execution_count": null,
      "outputs": []
    },
    {
      "cell_type": "code",
      "source": [
        "#Callback\n",
        "callback = EarlyStopping(\n",
        "    #code here (contains at least : monitor, patience, restore_best_weights)\n",
        "    monitor = 'val_loss',\n",
        "    min_delta = 0,\n",
        "    patience = 3,\n",
        "    verbose = 1,\n",
        "    restore_best_weights = True\n",
        ")"
      ],
      "metadata": {
        "id": "Lb6P585FaGve"
      },
      "execution_count": null,
      "outputs": []
    },
    {
      "cell_type": "markdown",
      "source": [
        "PERCOBAAN MENGGUNAKAN MODEL OPTIMASI SGD "
      ],
      "metadata": {
        "id": "IOVmiZnrjM2q"
      }
    },
    {
      "cell_type": "code",
      "source": [
        "#1dCNN1\n",
        "#size 48*1\n",
        "model.add(Convolution1D(neurons[0], 2, strides=1, padding='same', activation='relu', input_shape=(X_train[0].shape)))\n",
        "\n",
        "#pooling\n",
        "model.add(MaxPooling1D(pool_size=2, strides=2, padding='same'))\n",
        "model.add(BatchNormalization())\n",
        "\n",
        "#size 24*1\n",
        "#1dCNN2\n",
        "model.add(Convolution1D(neurons[1], 2, strides=1, padding='same', activation='relu'))\n",
        "\n",
        "#pooling\n",
        "model.add(MaxPooling1D(pool_size=2, strides=2, padding='same'))\n",
        "model.add(BatchNormalization())\n",
        "\n",
        "#size 12*1\n",
        "#1dCNN3\n",
        "model.add(Convolution1D(neurons[2], 2, strides=1, padding='same', activation='relu'))\n",
        "\n",
        "#pooling\n",
        "model.add(MaxPooling1D(pool_size=2, strides=2, padding='same'))\n",
        "model.add(BatchNormalization())\n",
        "\n",
        "model.add(Flatten())\n",
        "model.add(Dropout(dropout))\n",
        "model.add(Dense(1000))\n",
        "model.add(Activation('relu'))\n",
        "model.add(Dropout(dropout))\n",
        "model.add(Dense(12, activation='sigmoid'))\n",
        "\n",
        "#compile model\n",
        "adam = tf.optimizers.Adam(learning_rate=0.0001)\n",
        "sgd = tf.optimizers.SGD(learning_rate=0.001)\n",
        "adadelta = tf.optimizers.Adadelta(learning_rate=0.0001)\n",
        "model.compile(loss='mse',optimizer='sgd', metrics=['accuracy'])\n",
        "\n",
        "count = time.time()\n",
        "history10IC = model.fit(X_train, y_train, batch_size = 60, epochs = 500, validation_data=(X_test, y_test),callbacks=callback, verbose = 1)\n",
        "\n",
        "print(history10IC.history.keys())\n",
        "plt.figure(1)\n",
        "\n",
        "# Calculate loss and accuracy\n",
        "score = model.evaluate(X_test,y_test)\n",
        "print(\"Test Loss : \",score[0])\n",
        "print(\"Test Accuracy : \",score[1]*100.0)\n"
      ],
      "metadata": {
        "id": "J92rjTv1pPtK"
      },
      "execution_count": null,
      "outputs": []
    },
    {
      "cell_type": "code",
      "source": [
        "import matplotlib.pyplot as plt\n",
        "\n",
        "# summarize history for accuracy\n",
        "plt.plot(history10IC.history['accuracy'])\n",
        "plt.plot(history10IC.history['val_accuracy'])\n",
        "plt.title('model accuracy')\n",
        "plt.ylabel('accuracy')\n",
        "plt.xlabel('epoch')\n",
        "plt.legend(['Train', 'Validation'], loc='upper left')\n",
        "plt.show()\n",
        "# summarize history for loss\n",
        "plt.plot(history10IC.history['loss'])\n",
        "plt.plot(history10IC.history['val_loss'])\n",
        "plt.title('model loss')\n",
        "plt.ylabel('loss')\n",
        "plt.xlabel('epoch')\n",
        "plt.legend(['Train', 'Validation'], loc='upper left')\n",
        "plt.show()"
      ],
      "metadata": {
        "colab": {
          "base_uri": "https://localhost:8080/",
          "height": 573
        },
        "id": "DvGL9OZogJqr",
        "outputId": "c0aa830c-3283-45db-b319-4e6e6644c600"
      },
      "execution_count": null,
      "outputs": [
        {
          "output_type": "display_data",
          "data": {
            "text/plain": [
              "<Figure size 432x288 with 1 Axes>"
            ],
            "image/png": "[encoded data removed]"
          },
          "metadata": {
            "needs_background": "light"
          }
        },
        {
          "output_type": "display_data",
          "data": {
            "text/plain": [
              "<Figure size 432x288 with 1 Axes>"
            ],
            "image/png": "[encoded data removed]"
          },
          "metadata": {
            "needs_background": "light"
          }
        }
      ]
    },
    {
      "cell_type": "markdown",
      "source": [
        "PERCOBAAN MENGGUNAKAN MODEL ADAM"
      ],
      "metadata": {
        "id": "6h5SniWMjUBl"
      }
    },
    {
      "cell_type": "code",
      "source": [
        "#1dCNN1\n",
        "#size 48*1\n",
        "model.add(Convolution1D(neurons[0], 2, strides=1, padding='same', activation='relu', input_shape=(X_train_2[0].shape)))\n",
        "\n",
        "#pooling\n",
        "model.add(MaxPooling1D(pool_size=2, strides=2, padding='same'))\n",
        "model.add(BatchNormalization())\n",
        "\n",
        "#size 24*1\n",
        "#1dCNN2\n",
        "model.add(Convolution1D(neurons[1], 2, strides=1, padding='same', activation='relu'))\n",
        "\n",
        "#pooling\n",
        "model.add(MaxPooling1D(pool_size=2, strides=2, padding='same'))\n",
        "model.add(BatchNormalization())\n",
        "\n",
        "#size 12*1\n",
        "#1dCNN3\n",
        "model.add(Convolution1D(neurons[2], 2, strides=1, padding='same', activation='relu'))\n",
        "\n",
        "#pooling\n",
        "model.add(MaxPooling1D(pool_size=2, strides=2, padding='same'))\n",
        "model.add(BatchNormalization())\n",
        "\n",
        "model.add(Flatten())\n",
        "model.add(Dropout(dropout))\n",
        "model.add(Dense(1000))\n",
        "model.add(Activation('relu'))\n",
        "model.add(Dropout(dropout))\n",
        "model.add(Dense(12, activation='sigmoid'))\n",
        "\n",
        "#compile model\n",
        "adam = tf.optimizers.Adam(learning_rate=0.01)\n",
        "sgd = tf.optimizers.SGD(learning_rate=0.001)\n",
        "adadelta = tf.optimizers.Adadelta(learning_rate=0.0001)\n",
        "model.compile(loss='mse',optimizer='adam', metrics=['accuracy'])\n",
        "\n",
        "count = time.time()\n",
        "history10IC = model.fit(X_train_2, y_train_2, batch_size = 60, epochs = 500, validation_data=(X_test_2, y_test_2),callbacks=callback, verbose = 1)\n",
        "\n",
        "print(history10IC.history.keys())\n",
        "plt.figure(1)\n",
        "\n",
        "# Calculate loss and accuracy\n",
        "score = model.evaluate(X_test_2,y_test_2)\n",
        "print(\"Test Loss : \",score[0])\n",
        "print(\"Test Accuracy : \",score[1]*100.0)\n"
      ],
      "metadata": {
        "colab": {
          "base_uri": "https://localhost:8080/",
          "height": 610
        },
        "id": "WleIEEZjjTCe",
        "outputId": "24fcaa8a-2c4b-448c-d6e9-9b0401f59c73"
      },
      "execution_count": null,
      "outputs": [
        {
          "output_type": "stream",
          "name": "stdout",
          "text": [
            "Epoch 1/500\n",
            "183/183 [==============================] - 3s 10ms/step - loss: 0.0043 - accuracy: 0.4612 - val_loss: 0.0140 - val_accuracy: 0.1041\n",
            "Epoch 2/500\n",
            "183/183 [==============================] - 2s 8ms/step - loss: 0.0021 - accuracy: 0.6115 - val_loss: 0.0101 - val_accuracy: 0.1087\n",
            "Epoch 3/500\n",
            "183/183 [==============================] - 2s 9ms/step - loss: 0.0016 - accuracy: 0.6465 - val_loss: 0.0022 - val_accuracy: 0.4877\n",
            "Epoch 4/500\n",
            "183/183 [==============================] - 2s 8ms/step - loss: 0.0015 - accuracy: 0.6735 - val_loss: 8.2469e-04 - val_accuracy: 0.7708\n",
            "Epoch 5/500\n",
            "183/183 [==============================] - 2s 9ms/step - loss: 0.0013 - accuracy: 0.6825 - val_loss: 7.5249e-04 - val_accuracy: 0.7626\n",
            "Epoch 6/500\n",
            "183/183 [==============================] - 2s 8ms/step - loss: 0.0013 - accuracy: 0.7029 - val_loss: 8.4372e-04 - val_accuracy: 0.8037\n",
            "Epoch 7/500\n",
            "183/183 [==============================] - 2s 8ms/step - loss: 0.0012 - accuracy: 0.7089 - val_loss: 3.6323e-04 - val_accuracy: 0.8630\n",
            "Epoch 8/500\n",
            "183/183 [==============================] - 2s 8ms/step - loss: 0.0012 - accuracy: 0.7110 - val_loss: 4.6752e-04 - val_accuracy: 0.8466\n",
            "Epoch 9/500\n",
            "183/183 [==============================] - 2s 8ms/step - loss: 0.0011 - accuracy: 0.7092 - val_loss: 3.5817e-04 - val_accuracy: 0.8320\n",
            "Epoch 10/500\n",
            "183/183 [==============================] - 2s 9ms/step - loss: 0.0011 - accuracy: 0.7246 - val_loss: 3.5107e-04 - val_accuracy: 0.8731\n",
            "Epoch 11/500\n",
            "183/183 [==============================] - 2s 8ms/step - loss: 0.0011 - accuracy: 0.7205 - val_loss: 5.1126e-04 - val_accuracy: 0.8018\n",
            "Epoch 12/500\n",
            "183/183 [==============================] - 2s 8ms/step - loss: 0.0011 - accuracy: 0.7208 - val_loss: 5.1652e-04 - val_accuracy: 0.8612\n",
            "Epoch 13/500\n",
            "177/183 [============================>.] - ETA: 0s - loss: 0.0011 - accuracy: 0.7282Restoring model weights from the end of the best epoch: 10.\n",
            "183/183 [==============================] - 2s 8ms/step - loss: 0.0011 - accuracy: 0.7281 - val_loss: 4.2401e-04 - val_accuracy: 0.8329\n",
            "Epoch 13: early stopping\n",
            "dict_keys(['loss', 'accuracy', 'val_loss', 'val_accuracy'])\n",
            "35/35 [==============================] - 0s 2ms/step - loss: 3.5107e-04 - accuracy: 0.8731\n",
            "Test Loss :  0.00035107406438328326\n",
            "Test Accuracy :  87.3059332370758\n"
          ]
        },
        {
          "output_type": "display_data",
          "data": {
            "text/plain": [
              "<Figure size 432x288 with 0 Axes>"
            ]
          },
          "metadata": {}
        }
      ]
    },
    {
      "cell_type": "code",
      "source": [
        "X_test_2[0]"
      ],
      "metadata": {
        "colab": {
          "base_uri": "https://localhost:8080/"
        },
        "id": "lcJdPmew4tvp",
        "outputId": "f79ef320-d229-4a8e-b22c-dc3275ff573a"
      },
      "execution_count": null,
      "outputs": [
        {
          "output_type": "execute_result",
          "data": {
            "text/plain": [
              "array([[0.62, 0.54, 0.66, 0.45, 0.65, 0.56, 0.56, 0.62, 0.68, 0.75, 0.76,\n",
              "        0.71],\n",
              "       [0.43, 0.43, 0.42, 0.42, 0.37, 0.4 , 0.36, 0.35, 0.32, 0.27, 0.27,\n",
              "        0.3 ],\n",
              "       [0.42, 0.62, 0.38, 0.68, 0.48, 0.6 , 0.59, 0.55, 0.56, 0.44, 0.43,\n",
              "        0.46]])"
            ]
          },
          "metadata": {},
          "execution_count": 217
        }
      ]
    },
    {
      "cell_type": "code",
      "source": [
        "# FIX SETTING\n",
        "import matplotlib.pyplot as plt\n",
        "\n",
        "# summarize history for accuracy\n",
        "plt.plot(history10IC.history['accuracy'])\n",
        "plt.plot(history10IC.history['val_accuracy'])\n",
        "plt.title('model accuracy')\n",
        "plt.ylabel('accuracy')\n",
        "plt.xlabel('epoch')\n",
        "plt.legend(['Train', 'Validation'], loc='upper left')\n",
        "plt.show()\n",
        "# summarize history for loss\n",
        "plt.plot(history10IC.history['loss'])\n",
        "plt.plot(history10IC.history['val_loss'])\n",
        "plt.title('model loss')\n",
        "plt.ylabel('loss')\n",
        "plt.xlabel('epoch')\n",
        "plt.legend(['Train', 'Validation'], loc='upper left')\n",
        "plt.show()"
      ],
      "metadata": {
        "colab": {
          "base_uri": "https://localhost:8080/",
          "height": 573
        },
        "id": "P5fL8Ze7yLKW",
        "outputId": "34d75aef-6784-4ac2-ac31-5a310bddfff4"
      },
      "execution_count": null,
      "outputs": [
        {
          "output_type": "display_data",
          "data": {
            "text/plain": [
              "<Figure size 432x288 with 1 Axes>"
            ],
            "image/png": "[encoded data removed]"
          },
          "metadata": {
            "needs_background": "light"
          }
        },
        {
          "output_type": "display_data",
          "data": {
            "text/plain": [
              "<Figure size 432x288 with 1 Axes>"
            ],
            "image/png": "[encoded data removed]"
          },
          "metadata": {
            "needs_background": "light"
          }
        }
      ]
    },
    {
      "cell_type": "code",
      "source": [
        ""
      ],
      "metadata": {
        "id": "pDFkZ9TI4dlV"
      },
      "execution_count": null,
      "outputs": []
    },
    {
      "cell_type": "markdown",
      "source": [
        "PERCOBAAN MENGGUNAKAN MODEL ADADELTA"
      ],
      "metadata": {
        "id": "dZNkXo9kqawr"
      }
    },
    {
      "cell_type": "code",
      "source": [
        "#1dCNN1\n",
        "#size 48*1\n",
        "model.add(Convolution1D(neurons[0], 2, strides=1, padding='same', activation='relu', input_shape=(X_train_2[0].shape)))\n",
        "\n",
        "#pooling\n",
        "model.add(MaxPooling1D(pool_size=2, strides=2, padding='same'))\n",
        "model.add(BatchNormalization())\n",
        "\n",
        "#size 24*1\n",
        "#1dCNN2\n",
        "model.add(Convolution1D(neurons[1], 2, strides=1, padding='same', activation='relu'))\n",
        "\n",
        "#pooling\n",
        "model.add(MaxPooling1D(pool_size=2, strides=2, padding='same'))\n",
        "model.add(BatchNormalization())\n",
        "\n",
        "#size 12*1\n",
        "#1dCNN3\n",
        "model.add(Convolution1D(neurons[2], 2, strides=1, padding='same', activation='relu'))\n",
        "\n",
        "#pooling\n",
        "model.add(MaxPooling1D(pool_size=2, strides=2, padding='same'))\n",
        "model.add(BatchNormalization())\n",
        "\n",
        "model.add(Flatten())\n",
        "model.add(Dropout(dropout))\n",
        "model.add(Dense(1000))\n",
        "model.add(Activation('relu'))\n",
        "model.add(Dropout(dropout))\n",
        "model.add(Dense(12, activation='sigmoid'))\n",
        "\n",
        "#compile model\n",
        "adam = tf.optimizers.Adam(learning_rate=0.0001)\n",
        "sgd = tf.optimizers.SGD(learning_rate=0.001)\n",
        "adadelta = tf.optimizers.Adadelta(learning_rate=0.0001)\n",
        "model.compile(loss='mse',optimizer='adadelta', metrics=['accuracy'])\n",
        "\n",
        "count = time.time()\n",
        "history10IC = model.fit(X_train_2, y_train_2, batch_size = 60, epochs = 500, validation_data=(X_test_2, y_test_2),callbacks=callback, verbose = 1)\n",
        "\n",
        "print(history10IC.history.keys())\n",
        "plt.figure(1)\n",
        "\n",
        "# Calculate loss and accuracy\n",
        "score = model.evaluate(X_test_2,y_test_2)\n",
        "print(\"Test Loss : \",score[0])\n",
        "print(\"Test Accuracy : \",score[1]*100.0)\n"
      ],
      "metadata": {
        "colab": {
          "base_uri": "https://localhost:8080/",
          "height": 297
        },
        "id": "OgE8h84Vo_im",
        "outputId": "3a547027-2838-45eb-bbb5-a8c96ad3fb22"
      },
      "execution_count": null,
      "outputs": [
        {
          "output_type": "stream",
          "name": "stdout",
          "text": [
            "Epoch 1/500\n",
            "183/183 [==============================] - 5s 13ms/step - loss: 93.3224 - accuracy: 0.0782 - val_loss: 932.9510 - val_accuracy: 0.0776\n",
            "Epoch 2/500\n",
            "183/183 [==============================] - 1s 8ms/step - loss: 93.3247 - accuracy: 0.0745 - val_loss: 932.9629 - val_accuracy: 0.0776\n",
            "Epoch 3/500\n",
            "183/183 [==============================] - 1s 8ms/step - loss: 93.3107 - accuracy: 0.0789 - val_loss: 932.9660 - val_accuracy: 0.0840\n",
            "Epoch 4/500\n",
            "178/183 [============================>.] - ETA: 0s - loss: 95.7059 - accuracy: 0.0782Restoring model weights from the end of the best epoch: 1.\n",
            "183/183 [==============================] - 1s 8ms/step - loss: 93.3210 - accuracy: 0.0780 - val_loss: 932.9651 - val_accuracy: 0.0968\n",
            "Epoch 4: early stopping\n",
            "dict_keys(['loss', 'accuracy', 'val_loss', 'val_accuracy'])\n",
            "35/35 [==============================] - 0s 2ms/step - loss: 932.9512 - accuracy: 0.0776\n",
            "Test Loss :  932.951171875\n",
            "Test Accuracy :  7.7625572681427\n"
          ]
        },
        {
          "output_type": "display_data",
          "data": {
            "text/plain": [
              "<Figure size 432x288 with 0 Axes>"
            ]
          },
          "metadata": {}
        }
      ]
    }
  ]
}